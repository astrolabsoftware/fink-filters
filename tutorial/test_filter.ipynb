{
 "cells": [
  {
   "cell_type": "markdown",
   "id": "29b15993",
   "metadata": {},
   "source": [
    "# Testing Fink filters\n",
    "\n",
    "First download some ZTF data using the Fink Data Transfer service (https://fink-portal.org/download). Then load the data using Spark:"
   ]
  },
  {
   "cell_type": "code",
   "execution_count": 1,
   "id": "ebb169aa",
   "metadata": {},
   "outputs": [
    {
     "name": "stderr",
     "output_type": "stream",
     "text": [
      "                                                                                \r"
     ]
    }
   ],
   "source": [
    "df = spark.read.format('parquet').load('ftransfer_ztf_2023-03-21_623768')"
   ]
  },
  {
   "cell_type": "markdown",
   "id": "8600088b",
   "metadata": {},
   "source": [
    "For example, downloading data from 2023/03/17, I obtain nearly 200,000 alerts:"
   ]
  },
  {
   "cell_type": "code",
   "execution_count": 2,
   "id": "47d3dc1b",
   "metadata": {},
   "outputs": [
    {
     "name": "stderr",
     "output_type": "stream",
     "text": [
      "                                                                                \r"
     ]
    },
    {
     "data": {
      "text/plain": [
       "190920"
      ]
     },
     "execution_count": 2,
     "metadata": {},
     "output_type": "execute_result"
    }
   ],
   "source": [
    "df.count()"
   ]
  },
  {
   "cell_type": "markdown",
   "id": "4b55d632",
   "metadata": {},
   "source": [
    "## Import and apply the filter"
   ]
  },
  {
   "cell_type": "code",
   "execution_count": 3,
   "id": "b379c01d",
   "metadata": {},
   "outputs": [],
   "source": [
    "import pyspark.sql.functions as F\n",
    "from myfilter import example_filter"
   ]
  },
  {
   "cell_type": "code",
   "execution_count": 4,
   "id": "f9493991",
   "metadata": {},
   "outputs": [
    {
     "name": "stderr",
     "output_type": "stream",
     "text": [
      "                                                                                \r"
     ]
    },
    {
     "data": {
      "text/plain": [
       "452"
      ]
     },
     "execution_count": 4,
     "metadata": {},
     "output_type": "execute_result"
    }
   ],
   "source": [
    "df_filtered = df.withColumn('flag', example_filter('cdsxmatch', 'magpsf')).filter(F.col('flag'))\n",
    "df_filtered.count()"
   ]
  },
  {
   "cell_type": "markdown",
   "id": "c58837f5",
   "metadata": {},
   "source": [
    "Great our filter keeps 452 objects out of 200,000! you can then inspect them easily using Spark or even Pandas:"
   ]
  },
  {
   "cell_type": "code",
   "execution_count": 5,
   "id": "d1cfd3c2",
   "metadata": {},
   "outputs": [
    {
     "name": "stderr",
     "output_type": "stream",
     "text": [
      "23/03/21 17:46:41 WARN package: Truncated the string representation of a plan since it was too large. This behavior can be adjusted by setting 'spark.sql.debug.maxToStringFields'.\n",
      "                                                                                \r"
     ]
    }
   ],
   "source": [
    "pdf = df_filtered.toPandas()"
   ]
  },
  {
   "cell_type": "code",
   "execution_count": 6,
   "id": "9afe1a12",
   "metadata": {},
   "outputs": [
    {
     "data": {
      "text/plain": [
       "finkclass\n",
       "QSO                401\n",
       "Seyfert_1           21\n",
       "Star                 8\n",
       "Blue                 5\n",
       "RRLyr                3\n",
       "AGN                  2\n",
       "Radio                2\n",
       "SN                   2\n",
       "**                   1\n",
       "BClG                 1\n",
       "CataclyV*            1\n",
       "EB*                  1\n",
       "LP*_Candidate        1\n",
       "QSO_Candidate        1\n",
       "RRLyr_Candidate      1\n",
       "X                    1\n",
       "Name: objectId, dtype: int64"
      ]
     },
     "execution_count": 6,
     "metadata": {},
     "output_type": "execute_result"
    }
   ],
   "source": [
    "pdf.groupby('finkclass').count().sort_values('objectId', ascending=False)['objectId']"
   ]
  },
  {
   "cell_type": "markdown",
   "id": "965965da",
   "metadata": {},
   "source": [
    "OK our filter is mostly targeting QSO (faint objects in SIMBAD)"
   ]
  },
  {
   "cell_type": "code",
   "execution_count": null,
   "id": "3460d92c",
   "metadata": {},
   "outputs": [],
   "source": []
  }
 ],
 "metadata": {
  "kernelspec": {
   "display_name": "Python 3 (ipykernel)",
   "language": "python",
   "name": "python3"
  },
  "language_info": {
   "codemirror_mode": {
    "name": "ipython",
    "version": 3
   },
   "file_extension": ".py",
   "mimetype": "text/x-python",
   "name": "python",
   "nbconvert_exporter": "python",
   "pygments_lexer": "ipython3",
   "version": "3.9.12"
  }
 },
 "nbformat": 4,
 "nbformat_minor": 5
}
